{
 "cells": [
  {
   "cell_type": "markdown",
   "id": "197a3645",
   "metadata": {},
   "source": [
    "## <font color=red>Decimal to Binary (sololearn)(Recursion)</font><br>"
   ]
  },
  {
   "cell_type": "markdown",
   "id": "58f5970d",
   "metadata": {},
   "source": [
    "__The given code defines a recursive function convert(), which needs to convert its argument from decimal to binary.__<br>\n",
    "__However, the code has an error.__<br>\n",
    "__Fix the code by adding the base case for the recursion, then take a number from user input and call the convert() function, to output the result.___<br><br>\n",
    "__https://www.sololearn.com/learning/1158__"
   ]
  },
  {
   "cell_type": "markdown",
   "id": "b73144b2",
   "metadata": {},
   "source": [
    "Sample Input<br>\n",
    "8<br><br>\n",
    "\n",
    "Sample Output<br>\n",
    "1000<br><br>\n",
    "The binary representation of 8 is 1000."
   ]
  },
  {
   "cell_type": "code",
   "execution_count": null,
   "id": "462b6b59",
   "metadata": {},
   "outputs": [],
   "source": [
    "def convert(num): \n",
    "    if num == 1 :\n",
    "        return 1\n",
    "    else :\n",
    "        return (num % 2 + 10 * convert(num // 2)) \n",
    "    \n",
    "a = int(input())    \n",
    "print(convert(a))"
   ]
  },
  {
   "cell_type": "code",
   "execution_count": null,
   "id": "f221ba84",
   "metadata": {},
   "outputs": [],
   "source": []
  }
 ],
 "metadata": {
  "kernelspec": {
   "display_name": "Python 3 (ipykernel)",
   "language": "python",
   "name": "python3"
  },
  "language_info": {
   "codemirror_mode": {
    "name": "ipython",
    "version": 3
   },
   "file_extension": ".py",
   "mimetype": "text/x-python",
   "name": "python",
   "nbconvert_exporter": "python",
   "pygments_lexer": "ipython3",
   "version": "3.9.7"
  }
 },
 "nbformat": 4,
 "nbformat_minor": 5
}
