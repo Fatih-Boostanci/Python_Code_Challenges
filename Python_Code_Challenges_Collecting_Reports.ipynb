{
 "cells": [
  {
   "cell_type": "markdown",
   "id": "b71d00ba",
   "metadata": {},
   "source": [
    "## <font color=red>Collecting Reports (sololearn)(Decorators)</font><br>"
   ]
  },
  {
   "cell_type": "markdown",
   "id": "2e449d36",
   "metadata": {},
   "source": [
    "__- You are working on an invoicing system.__<br>\n",
    "__- The system has an already defined invoice() function, which takes the invoice number as argument and outputs it.__<br>\n",
    "__- You need to add a decorator for the invoice() function, that will print the invoice in the following format:__<br>"
   ]
  },
  {
   "cell_type": "markdown",
   "id": "bdc52caf",
   "metadata": {},
   "source": [
    "Sample Input<br>\n",
    "42<br><br>\n",
    "\n",
    "Sample Output<br>\n",
    "__***__<br>\n",
    "INVOICE #42<br>\n",
    "__***__<br> \n",
    "END OF PAGE"
   ]
  },
  {
   "cell_type": "markdown",
   "id": "c504221b",
   "metadata": {},
   "source": [
    "__The given code takes the invoice number as input and passes it to the invoice() function.__"
   ]
  },
  {
   "cell_type": "code",
   "execution_count": null,
   "id": "9cb89756",
   "metadata": {},
   "outputs": [],
   "source": [
    "def decor(func):\n",
    "    def wrap(num):\n",
    "        print(\"***\")\n",
    "        func(num)\n",
    "        print(\"***\")\n",
    "        print(\"END OF PAGE\")\n",
    "    return wrap\n",
    "\n",
    "\n",
    "@decor\n",
    "def invoice(num):\n",
    "    print(\"INVOICE #\" +num)\n",
    "\n",
    "invoice(input());"
   ]
  },
  {
   "cell_type": "code",
   "execution_count": null,
   "id": "7bce668b",
   "metadata": {},
   "outputs": [],
   "source": []
  }
 ],
 "metadata": {
  "kernelspec": {
   "display_name": "Python 3 (ipykernel)",
   "language": "python",
   "name": "python3"
  },
  "language_info": {
   "codemirror_mode": {
    "name": "ipython",
    "version": 3
   },
   "file_extension": ".py",
   "mimetype": "text/x-python",
   "name": "python",
   "nbconvert_exporter": "python",
   "pygments_lexer": "ipython3",
   "version": "3.9.7"
  }
 },
 "nbformat": 4,
 "nbformat_minor": 5
}
