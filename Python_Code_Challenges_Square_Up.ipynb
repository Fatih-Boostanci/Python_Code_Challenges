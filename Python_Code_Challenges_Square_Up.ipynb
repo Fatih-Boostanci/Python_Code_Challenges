{
 "cells": [
  {
   "cell_type": "markdown",
   "id": "e872c63e",
   "metadata": {},
   "source": [
    "## <font color=red>Square Up(sololearn)</font><br>"
   ]
  },
  {
   "cell_type": "markdown",
   "id": "b476a994",
   "metadata": {},
   "source": [
    "__Tuples can be used to output multiple values from a function.__<br>\n",
    "__You need to make a function called calc(), that will take the side length of a square as its argument and return the perimeter and area using a tuple.__<br>\n",
    "__The perimeter is the sum of all sides, while the area is the square of the side length.__<br>\n",
    "\n",
    "__Sample Input<br>\n",
    "3__<br><br>\n",
    "\n",
    "__Sample Output\n",
    "Perimeter: 12<br>\n",
    "Area: 9__<br>\n",
    "\n",
    "__The given code takes a number from user input, passes it to the calc() function, and uses unpacking to get the returned values.__\n",
    "\n",
    "__https://www.sololearn.com/learning/1158/4674/11990/1__"
   ]
  },
  {
   "cell_type": "markdown",
   "id": "41af8c5f",
   "metadata": {},
   "source": []
  },
  {
   "cell_type": "code",
   "execution_count": null,
   "id": "133f14a5",
   "metadata": {},
   "outputs": [],
   "source": [
    "def calc(x):\n",
    "    s = (x * 4, x ** 2)\n",
    "    return s\n",
    "    \n",
    "\n",
    "side = int(input())\n",
    "p, a = calc(side)\n",
    "\n",
    "print(\"Perimeter: \" + str(p))\n",
    "print(\"Area: \" + str(a))"
   ]
  },
  {
   "cell_type": "code",
   "execution_count": null,
   "id": "0153d789",
   "metadata": {},
   "outputs": [],
   "source": []
  }
 ],
 "metadata": {
  "kernelspec": {
   "display_name": "Python 3 (ipykernel)",
   "language": "python",
   "name": "python3"
  },
  "language_info": {
   "codemirror_mode": {
    "name": "ipython",
    "version": 3
   },
   "file_extension": ".py",
   "mimetype": "text/x-python",
   "name": "python",
   "nbconvert_exporter": "python",
   "pygments_lexer": "ipython3",
   "version": "3.9.7"
  }
 },
 "nbformat": 4,
 "nbformat_minor": 5
}
