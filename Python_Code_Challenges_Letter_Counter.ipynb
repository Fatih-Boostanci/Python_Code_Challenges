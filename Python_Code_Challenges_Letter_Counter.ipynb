{
 "cells": [
  {
   "cell_type": "markdown",
   "id": "f6ce69d9",
   "metadata": {},
   "source": [
    "## <font color=red>Letter Counter (sololearn)</font><br>"
   ]
  },
  {
   "cell_type": "markdown",
   "id": "04db2f9b",
   "metadata": {},
   "source": [
    "__- Given a string as input, you need to output how many times each letter appears in the string.__<br>\n",
    "__- You decide to store the data in a dictionary, with the letters as the keys, and the corresponding counts as the values.__<br>\n",
    "__- Create a program to take a string as input and output a dictionary, which represents the letter count.__"
   ]
  },
  {
   "cell_type": "markdown",
   "id": "8dae4c81",
   "metadata": {},
   "source": [
    "__Sample Input<br>\n",
    "hello__<br>\n",
    "\n",
    "__Sample Output<br>\n",
    "{'h': 1, 'e': 1, 'l': 2, 'o': 1}__<br>\n",
    "\n",
    "__- You need to output the dictionary object.__<br>\n",
    "__- Note, that the letters are in the order of appearance in the string.__\n",
    "\n",
    "__https://www.sololearn.com/learning/eom-project/1158/1060__"
   ]
  },
  {
   "cell_type": "code",
   "execution_count": null,
   "id": "60c9fe3f",
   "metadata": {},
   "outputs": [],
   "source": [
    "text = input()\n",
    "dict = {}\n",
    "for i in text :\n",
    "    dict[i] = text.count(i) # add items to a dict(dict[key]=value)\n",
    "print(dict)"
   ]
  },
  {
   "cell_type": "code",
   "execution_count": null,
   "id": "0448eeab",
   "metadata": {},
   "outputs": [],
   "source": []
  }
 ],
 "metadata": {
  "kernelspec": {
   "display_name": "Python 3 (ipykernel)",
   "language": "python",
   "name": "python3"
  },
  "language_info": {
   "codemirror_mode": {
    "name": "ipython",
    "version": 3
   },
   "file_extension": ".py",
   "mimetype": "text/x-python",
   "name": "python",
   "nbconvert_exporter": "python",
   "pygments_lexer": "ipython3",
   "version": "3.9.7"
  }
 },
 "nbformat": 4,
 "nbformat_minor": 5
}
