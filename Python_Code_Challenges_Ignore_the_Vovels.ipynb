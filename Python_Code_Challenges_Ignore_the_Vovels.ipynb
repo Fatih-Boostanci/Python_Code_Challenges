{
 "cells": [
  {
   "cell_type": "markdown",
   "id": "a0816a6f",
   "metadata": {},
   "source": [
    "## <font color=red>Ignore the Vovels (sololearn)</font><br>"
   ]
  },
  {
   "cell_type": "markdown",
   "id": "2ca14198",
   "metadata": {},
   "source": [
    "__Given a word as input, output a list, containing only the letters of the word that are not vowels.__<br>\n",
    "__The vowels are a, e, i, o, u.__\n",
    "\n",
    "__Sample Input__<br>\n",
    "__awesome__\n",
    "\n",
    "__Sample Output__<br>\n",
    "__['w', 's', 'm']__"
   ]
  },
  {
   "cell_type": "markdown",
   "id": "cf7807f8",
   "metadata": {},
   "source": [
    "__Use a list comprehension to create the required list of letters and output it.__\n",
    "\n",
    "\n",
    "__https://www.sololearn.com/learning/1158/4640/11879/1__"
   ]
  },
  {
   "cell_type": "markdown",
   "id": "78c2f1b0",
   "metadata": {},
   "source": [
    "### Solution-1"
   ]
  },
  {
   "cell_type": "code",
   "execution_count": null,
   "id": "e89a4501",
   "metadata": {},
   "outputs": [],
   "source": [
    "word = input()\n",
    "vowels = [\"a\", \"e\", \"i\", \"o\", \"u\"]\n",
    "result = [i for i in word if not word in vowels]\n",
    "result"
   ]
  },
  {
   "cell_type": "markdown",
   "id": "0d574d66",
   "metadata": {},
   "source": [
    "### Solution-2"
   ]
  },
  {
   "cell_type": "code",
   "execution_count": null,
   "id": "3635e411",
   "metadata": {},
   "outputs": [],
   "source": [
    "word = input()\n",
    "vowels = [\"a\", \"e\", \"i\", \"o\", \"u\"]\n",
    "result = list(set(word) - set(vowels))\n",
    "print(result)"
   ]
  },
  {
   "cell_type": "code",
   "execution_count": null,
   "id": "67e54f21",
   "metadata": {},
   "outputs": [],
   "source": []
  }
 ],
 "metadata": {
  "kernelspec": {
   "display_name": "Python 3 (ipykernel)",
   "language": "python",
   "name": "python3"
  },
  "language_info": {
   "codemirror_mode": {
    "name": "ipython",
    "version": 3
   },
   "file_extension": ".py",
   "mimetype": "text/x-python",
   "name": "python",
   "nbconvert_exporter": "python",
   "pygments_lexer": "ipython3",
   "version": "3.9.7"
  }
 },
 "nbformat": 4,
 "nbformat_minor": 5
}
