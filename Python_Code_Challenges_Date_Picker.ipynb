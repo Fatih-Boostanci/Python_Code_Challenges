{
 "cells": [
  {
   "cell_type": "markdown",
   "id": "8aed7a4f",
   "metadata": {},
   "source": [
    "## <font color=red>Date Picker(sololearn)</font><br>"
   ]
  },
  {
   "cell_type": "markdown",
   "id": "69f79e53",
   "metadata": {},
   "source": [
    "__You are creating a date picker for a website and need to output all of the years in a given period.\n",
    "Write a program that takes two integers as input and outputs the range of numbers between the two inputs as a list.\n",
    "The output sequence should start with the first input number and end with the second input number, without including it.__\n",
    "\n",
    "__Sample Input\n",
    "2005\n",
    "2011__\n",
    "\n",
    "__Sample Output\n",
    "[2005, 2006, 2007, 2008, 2009, 2010]__"
   ]
  },
  {
   "cell_type": "markdown",
   "id": "ddc00990",
   "metadata": {},
   "source": [
    "### Solution-1"
   ]
  },
  {
   "cell_type": "code",
   "execution_count": null,
   "id": "c1b0bbf3",
   "metadata": {},
   "outputs": [],
   "source": [
    "a = int(input())\n",
    "b = int(input())\n",
    "date_picker = list(range(a, b))\n",
    "print(date_picker)"
   ]
  },
  {
   "cell_type": "markdown",
   "id": "ea9dd9e0",
   "metadata": {},
   "source": [
    "### Solution-2"
   ]
  },
  {
   "cell_type": "code",
   "execution_count": null,
   "id": "c875b563",
   "metadata": {},
   "outputs": [],
   "source": [
    "a = int(input())\n",
    "b = int(input())\n",
    "\n",
    "date_picker = []\n",
    "for i in list(range(a, b)) :\n",
    "    date_picker.append(i)\n",
    "    \n",
    "print(date_picker)"
   ]
  }
 ],
 "metadata": {
  "kernelspec": {
   "display_name": "Python 3 (ipykernel)",
   "language": "python",
   "name": "python3"
  },
  "language_info": {
   "codemirror_mode": {
    "name": "ipython",
    "version": 3
   },
   "file_extension": ".py",
   "mimetype": "text/x-python",
   "name": "python",
   "nbconvert_exporter": "python",
   "pygments_lexer": "ipython3",
   "version": "3.9.7"
  }
 },
 "nbformat": 4,
 "nbformat_minor": 5
}
