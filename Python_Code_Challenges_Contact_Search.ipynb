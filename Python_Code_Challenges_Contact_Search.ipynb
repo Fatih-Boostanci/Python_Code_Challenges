{
 "cells": [
  {
   "cell_type": "markdown",
   "id": "09d0bc66",
   "metadata": {},
   "source": [
    "## <font color=red>Contact Search(Tuples)(sololearn)</font><br>"
   ]
  },
  {
   "cell_type": "markdown",
   "id": "ce6997c5",
   "metadata": {},
   "source": [
    "__You are given a list of contacts, where each contact is represented by a tuple, with the name and age of the contact.__\n",
    "\n",
    "__Complete the program to get a string as input, search for the name in the list of contacts and output the age of the contact in the format presented below:__\n",
    "\n",
    "__Sample Input\n",
    "John__\n",
    "\n",
    "__Sample Output\n",
    "John is 31__\n",
    "\n",
    "__If the contact is not found, the program should output \"Not found\".__\n",
    "\n",
    "__https://www.sololearn.com/codecoach/1067?language=py&location=2&returnUrl=/learning__\n"
   ]
  },
  {
   "cell_type": "markdown",
   "id": "c80b90b5",
   "metadata": {},
   "source": [
    "### Solution-1"
   ]
  },
  {
   "cell_type": "code",
   "execution_count": null,
   "id": "3d064406",
   "metadata": {},
   "outputs": [],
   "source": [
    "contacts = [\n",
    "    ('James', 42),\n",
    "    ('Amy', 24),\n",
    "    ('John', 31),\n",
    "    ('Amanda', 63),\n",
    "    ('Bob', 18)\n",
    "]\n",
    "\n",
    "name = input()\n",
    "\n",
    "for i in contacts :\n",
    "    if name in i :\n",
    "        print(str(i[0]), \"is\", str(i[1]))\n",
    "        break\n",
    "else :\n",
    "    print(\"Not found\")"
   ]
  },
  {
   "cell_type": "markdown",
   "id": "a260f6f8",
   "metadata": {},
   "source": [
    "### Solution-2 (partly-list_comprehension)"
   ]
  },
  {
   "cell_type": "code",
   "execution_count": null,
   "id": "7372ea32",
   "metadata": {},
   "outputs": [],
   "source": [
    "contacts = [\n",
    "    ('James', 42),\n",
    "    ('Amy', 24),\n",
    "    ('John', 31),\n",
    "    ('Amanda', 63),\n",
    "    ('Bob', 18)\n",
    "]\n",
    "\n",
    "name = input()\n",
    "\n",
    "res = [(str(i[0]) + \" is \" + str(i[1]) if name in i else \"Not found\") for i in contacts]\n",
    "\n",
    "print(res)"
   ]
  },
  {
   "cell_type": "code",
   "execution_count": null,
   "id": "c952427f",
   "metadata": {},
   "outputs": [],
   "source": []
  }
 ],
 "metadata": {
  "kernelspec": {
   "display_name": "Python 3 (ipykernel)",
   "language": "python",
   "name": "python3"
  },
  "language_info": {
   "codemirror_mode": {
    "name": "ipython",
    "version": 3
   },
   "file_extension": ".py",
   "mimetype": "text/x-python",
   "name": "python",
   "nbconvert_exporter": "python",
   "pygments_lexer": "ipython3",
   "version": "3.9.7"
  }
 },
 "nbformat": 4,
 "nbformat_minor": 5
}
