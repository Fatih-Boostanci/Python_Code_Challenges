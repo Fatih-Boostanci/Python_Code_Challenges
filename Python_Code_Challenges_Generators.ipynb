{
 "cells": [
  {
   "cell_type": "markdown",
   "id": "2953c1ff",
   "metadata": {},
   "source": [
    "## <font color=red>Generators (sololearn)</font><br>"
   ]
  },
  {
   "cell_type": "markdown",
   "id": "53f20bb7",
   "metadata": {},
   "source": [
    "__- Finding prime numbers is a common coding interview task.__<br>\n",
    "__- The given code defines a function isPrime(x), which returns True if x is prime.__<br>\n",
    "__- You need to create a generator function primeGenerator(), that will take two numbers as arguments, and use the isPrime() function to output the prime numbers in the given range (between the two arguments).__"
   ]
  },
  {
   "cell_type": "markdown",
   "id": "339adde1",
   "metadata": {},
   "source": [
    "Sample Input<br>\n",
    "10<br>\n",
    "20"
   ]
  },
  {
   "cell_type": "markdown",
   "id": "bc8b9a86",
   "metadata": {},
   "source": [
    "Sample Output<br>\n",
    "[11, 13, 17, 19]"
   ]
  },
  {
   "cell_type": "markdown",
   "id": "17ed3ba5",
   "metadata": {},
   "source": [
    "__The given code takes the two arguments as input and passes them to the generator function, outputting the result as a list.__"
   ]
  },
  {
   "cell_type": "code",
   "execution_count": null,
   "id": "c92e9027",
   "metadata": {},
   "outputs": [],
   "source": [
    "def isPrime(x):\n",
    "    if x < 2:\n",
    "        return False\n",
    "    elif x == 2:\n",
    "        return True  \n",
    "    for n in range(2, x):\n",
    "        if x % n ==0:\n",
    "            return False\n",
    "    return True\n",
    "\n",
    "def primeGenerator(a, b):\n",
    "    for number in range(a, b):\n",
    "        if isPrime(number):\n",
    "            yield number\n",
    "# \"return\" sends a specified value back to its caller \n",
    "# whereas \"yield\"can produce a sequence of values. \n",
    "## \"yield\" are used in Python generators.\n",
    "f = int(input())\n",
    "t = int(input())\n",
    "\n",
    "print(list(primeGenerator(f, t)))"
   ]
  },
  {
   "cell_type": "code",
   "execution_count": null,
   "id": "8400eccc",
   "metadata": {},
   "outputs": [],
   "source": []
  }
 ],
 "metadata": {
  "kernelspec": {
   "display_name": "Python 3 (ipykernel)",
   "language": "python",
   "name": "python3"
  },
  "language_info": {
   "codemirror_mode": {
    "name": "ipython",
    "version": 3
   },
   "file_extension": ".py",
   "mimetype": "text/x-python",
   "name": "python",
   "nbconvert_exporter": "python",
   "pygments_lexer": "ipython3",
   "version": "3.9.7"
  }
 },
 "nbformat": 4,
 "nbformat_minor": 5
}
