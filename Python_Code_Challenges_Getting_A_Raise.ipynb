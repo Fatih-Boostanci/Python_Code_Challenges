{
 "cells": [
  {
   "cell_type": "markdown",
   "id": "04724f59",
   "metadata": {},
   "source": [
    "## <font color=red>Getting A Raise! (sololearn)</font><br>"
   ]
  },
  {
   "cell_type": "markdown",
   "id": "1ddedd9a",
   "metadata": {},
   "source": [
    "__- You work on a payroll program.__<br>\n",
    "__- Given a list of salaries, you need to take the bonus everybody is getting as input and increase all the salaries by that amount.__<br>\n",
    "__- Output the resulting list.__<br>"
   ]
  },
  {
   "cell_type": "markdown",
   "id": "171fb472",
   "metadata": {},
   "source": [
    "__- You can use the map() function to increase all the values of the list.__<br>\n",
    "__-https://www.sololearn.com/codecoach/1072?language=py&location=2&source=profile__"
   ]
  },
  {
   "cell_type": "markdown",
   "id": "c9298b87",
   "metadata": {},
   "source": [
    "### Solution-1"
   ]
  },
  {
   "cell_type": "code",
   "execution_count": null,
   "id": "152b0e80",
   "metadata": {},
   "outputs": [],
   "source": [
    "salaries = [2000, 1800, 3100, 4400, 1500]\n",
    "bonus = int(input())\n",
    "\n",
    "salaries = list(map(lambda x: x + bonus, salaries))\n",
    "\n",
    "print(salaries)"
   ]
  },
  {
   "cell_type": "markdown",
   "id": "e974d506",
   "metadata": {},
   "source": [
    "### Solution-2"
   ]
  },
  {
   "cell_type": "code",
   "execution_count": null,
   "id": "0b587fb8",
   "metadata": {},
   "outputs": [],
   "source": [
    "salaries = [2000, 1800, 3100, 4400, 1500]\n",
    "bonus = int(input())\n",
    "counter = 0\n",
    "for x in salaries :\n",
    "    salaries[counter] = x + bonus\n",
    "    counter += 1\n",
    "\n",
    "print(salaries)"
   ]
  },
  {
   "cell_type": "code",
   "execution_count": null,
   "id": "043657fe",
   "metadata": {},
   "outputs": [],
   "source": []
  }
 ],
 "metadata": {
  "kernelspec": {
   "display_name": "Python 3 (ipykernel)",
   "language": "python",
   "name": "python3"
  },
  "language_info": {
   "codemirror_mode": {
    "name": "ipython",
    "version": 3
   },
   "file_extension": ".py",
   "mimetype": "text/x-python",
   "name": "python",
   "nbconvert_exporter": "python",
   "pygments_lexer": "ipython3",
   "version": "3.9.7"
  }
 },
 "nbformat": 4,
 "nbformat_minor": 5
}
