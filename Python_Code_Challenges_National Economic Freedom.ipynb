{
 "cells": [
  {
   "cell_type": "markdown",
   "id": "9111be1d",
   "metadata": {},
   "source": [
    "## <font color=red>National Economic Freedom(sololearn)</font><br>"
   ]
  },
  {
   "cell_type": "markdown",
   "id": "b13af5e8",
   "metadata": {},
   "source": [
    "__You are working on data that represents the economic freedom rank by country.\n",
    "Each country name and rank are stored in a dictionary, with the key being the country name.__\n",
    "\n",
    "__Complete the program to take the country name as input and output its corresponding economic freedom rank.\n",
    "In case the provided country name is not present in the data, output \"Not found\".__"
   ]
  },
  {
   "cell_type": "markdown",
   "id": "170dbea6",
   "metadata": {},
   "source": [
    "__Recall the get() method of a dictionary, that allows you to specify a default value.__\n",
    "\n",
    "__https://www.sololearn.com/learning/1158/4637/11871/1__"
   ]
  },
  {
   "cell_type": "markdown",
   "id": "5c9b6305",
   "metadata": {},
   "source": [
    "### Solution-1"
   ]
  },
  {
   "cell_type": "code",
   "execution_count": null,
   "id": "99869c5c",
   "metadata": {},
   "outputs": [],
   "source": [
    "data = {\n",
    "    'Singapore': 1,\n",
    "    'Ireland': 6,\n",
    "    'United Kingdom': 7,\n",
    "    'Germany': 27,\n",
    "    'Armenia': 34,\n",
    "    'United States': 17,\n",
    "    'Canada': 9,\n",
    "    'Italy': 74\n",
    "}\n",
    "\n",
    "c = input()\n",
    "\n",
    "def country(c) :\n",
    "\n",
    "    if c in data :\n",
    "        return data[c]\n",
    "    else :\n",
    "        return data.get(c, \"Not found\")\n",
    "\n",
    "\n",
    "print(country(c))"
   ]
  },
  {
   "cell_type": "markdown",
   "id": "afcc62bd",
   "metadata": {},
   "source": [
    "### Solution-2"
   ]
  },
  {
   "cell_type": "code",
   "execution_count": null,
   "id": "8bdeb3b2",
   "metadata": {},
   "outputs": [],
   "source": [
    "data = {\n",
    "    'Singapore': 1,\n",
    "    'Ireland': 6,\n",
    "    'United Kingdom': 7,\n",
    "    'Germany': 27,\n",
    "    'Armenia': 34,\n",
    "    'United States': 17,\n",
    "    'Canada': 9,\n",
    "    'Italy': 74\n",
    "}\n",
    "\n",
    "a = input()\n",
    "print(data.get(a, \"Not found\"))"
   ]
  },
  {
   "cell_type": "code",
   "execution_count": 1,
   "id": "8693b79f",
   "metadata": {},
   "outputs": [
    {
     "name": "stdout",
     "output_type": "stream",
     "text": [
      "8\n"
     ]
    }
   ],
   "source": [
    "fib = {1: 1, 2: 1, 3: 2, 4: 3}\n",
    "print(fib.get(4, 0) + fib.get(7, 5))"
   ]
  }
 ],
 "metadata": {
  "kernelspec": {
   "display_name": "Python 3 (ipykernel)",
   "language": "python",
   "name": "python3"
  },
  "language_info": {
   "codemirror_mode": {
    "name": "ipython",
    "version": 3
   },
   "file_extension": ".py",
   "mimetype": "text/x-python",
   "name": "python",
   "nbconvert_exporter": "python",
   "pygments_lexer": "ipython3",
   "version": "3.9.7"
  }
 },
 "nbformat": 4,
 "nbformat_minor": 5
}
