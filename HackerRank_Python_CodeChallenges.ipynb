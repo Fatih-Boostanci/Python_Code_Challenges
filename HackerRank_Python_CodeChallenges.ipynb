{
 "cells": [
  {
   "cell_type": "markdown",
   "id": "f937ef1e",
   "metadata": {},
   "source": [
    "# HackerRank Python Code Challenges"
   ]
  },
  {
   "cell_type": "markdown",
   "id": "7f96790e",
   "metadata": {},
   "source": [
    "## C1-If-Else"
   ]
  },
  {
   "cell_type": "markdown",
   "id": "43d6efdb",
   "metadata": {},
   "source": [
    "__Task__<br><br>\n",
    "- Given an integer, , perform the following conditional actions:<br><br>\n",
    "\n",
    "- If  is odd, print Weird<br>\n",
    "- If  is even and in the inclusive range of  to , print Not Weird<br>\n",
    "- If  is even and in the inclusive range of  to , print Weird<br>\n",
    "- If  is even and greater than , print Not Weird<br>"
   ]
  },
  {
   "cell_type": "markdown",
   "id": "66f45f19",
   "metadata": {},
   "source": [
    "### Solution"
   ]
  },
  {
   "cell_type": "code",
   "execution_count": null,
   "id": "cdb3775d",
   "metadata": {},
   "outputs": [],
   "source": [
    "if n % 2 != 0:\n",
    "    print(\"Weird\")\n",
    "else:\n",
    "    if n >= 2 and n <=5:\n",
    "        print(\"Not Weird\")\n",
    "    elif n >= 6 and n <= 20:\n",
    "        print(\"Weird\")\n",
    "    elif n > 20:\n",
    "        print(\"Not Weird\")"
   ]
  }
 ],
 "metadata": {
  "kernelspec": {
   "display_name": "Python 3 (ipykernel)",
   "language": "python",
   "name": "python3"
  },
  "language_info": {
   "codemirror_mode": {
    "name": "ipython",
    "version": 3
   },
   "file_extension": ".py",
   "mimetype": "text/x-python",
   "name": "python",
   "nbconvert_exporter": "python",
   "pygments_lexer": "ipython3",
   "version": "3.9.7"
  }
 },
 "nbformat": 4,
 "nbformat_minor": 5
}
