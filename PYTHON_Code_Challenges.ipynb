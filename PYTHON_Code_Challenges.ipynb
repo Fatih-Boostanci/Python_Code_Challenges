{
 "cells": [
  {
   "cell_type": "markdown",
   "id": "dc5d1831",
   "metadata": {},
   "source": [
    "# ++++++++++++++<font color=red>Code Challenges</font>+++++++++++++++<br>"
   ]
  },
  {
   "cell_type": "markdown",
   "id": "3c6052d2",
   "metadata": {},
   "source": [
    "## <font color=red>Prime Number Finder(codecademy)</font><br>"
   ]
  },
  {
   "cell_type": "markdown",
   "id": "1b1f5fd5",
   "metadata": {},
   "source": [
    "__Create a prime_finder() function that takes in a number, n, and returns all the prime numbers from 1 to n (inclusive).__<br> <br>\n",
    "__As a reminder, a prime number is a number that is only divisible by 1 and itself.__\n",
    "\n",
    "__For example, prime_finder(11) should return [2, 3, 5, 7, 11].__\n",
    "\n",
    "__Variations of this challenge have been reported to have been asked at interviews with Facebook.__ <br>\n",
    "\n",
    "__If you’ve covered the material in Pass the Technical Interview with Python or an equivalent, you should be able to solve this challenge.__ \n",
    "__If you have trouble, try refreshing your knowledge there first.__"
   ]
  },
  {
   "cell_type": "markdown",
   "id": "f6245447",
   "metadata": {},
   "source": [
    "https://www.codecademy.com/code-challenges/code-challenge-prime-number-finder-python"
   ]
  },
  {
   "cell_type": "code",
   "execution_count": null,
   "id": "706bfec1",
   "metadata": {},
   "outputs": [],
   "source": []
  },
  {
   "cell_type": "markdown",
   "id": "93e15c60",
   "metadata": {},
   "source": [
    "### Solution-1"
   ]
  },
  {
   "cell_type": "code",
   "execution_count": 1,
   "id": "9fe3c57f",
   "metadata": {},
   "outputs": [],
   "source": [
    "def prime_finder(n) :\n",
    "    \n",
    "    prime = []\n",
    "    \n",
    "    for i in range(2, n+1) :\n",
    "        \n",
    "        for j in range(2, i) :\n",
    "\n",
    "            if i % j == 0 and j != i :\n",
    "                \n",
    "                break\n",
    "            \n",
    "        else :\n",
    "            \n",
    "            prime.append(i)\n",
    "    \n",
    "    return prime\n",
    "       \n",
    "        \n",
    "        \n"
   ]
  },
  {
   "cell_type": "code",
   "execution_count": 2,
   "id": "c2d4cb90",
   "metadata": {},
   "outputs": [
    {
     "data": {
      "text/plain": [
       "[2, 3, 5, 7, 11]"
      ]
     },
     "execution_count": 2,
     "metadata": {},
     "output_type": "execute_result"
    }
   ],
   "source": [
    "prime_finder(11)"
   ]
  },
  {
   "cell_type": "markdown",
   "id": "f7381c6d",
   "metadata": {},
   "source": [
    "### Solution-2"
   ]
  },
  {
   "cell_type": "code",
   "execution_count": 3,
   "id": "aa07d814",
   "metadata": {},
   "outputs": [],
   "source": [
    "def prime_finder(n):\n",
    "  list_of_primes = []\n",
    "  for x in range(2, n+1):\n",
    "    num = x\n",
    "    p = False\n",
    "    for y in range(2, num):\n",
    "      if num % y == 0:\n",
    "        p = True\n",
    "        break\n",
    "    if p:\n",
    "      continue\n",
    "    else:\n",
    "      list_of_primes.append(num)\n",
    "  return list_of_primes\n"
   ]
  },
  {
   "cell_type": "code",
   "execution_count": 4,
   "id": "e3c1c661",
   "metadata": {},
   "outputs": [
    {
     "data": {
      "text/plain": [
       "[2, 3, 5, 7, 11]"
      ]
     },
     "execution_count": 4,
     "metadata": {},
     "output_type": "execute_result"
    }
   ],
   "source": [
    "prime_finder(11)"
   ]
  },
  {
   "cell_type": "markdown",
   "id": "b0d2bb26",
   "metadata": {},
   "source": [
    "### Solution-3"
   ]
  },
  {
   "cell_type": "code",
   "execution_count": 5,
   "id": "ebe3c3d5",
   "metadata": {},
   "outputs": [],
   "source": [
    "def prime_finder(n):\n",
    "  #take care of edge cases 0 - 4 to make loop easier\n",
    "  if n < 1:\n",
    "    return []\n",
    "  if n == 2:\n",
    "    return [2]\n",
    "  if n < 5:\n",
    "    return [2, 3]\n"
   ]
  },
  {
   "cell_type": "code",
   "execution_count": 6,
   "id": "6620eba8",
   "metadata": {},
   "outputs": [],
   "source": [
    "prime_finder(11)"
   ]
  },
  {
   "cell_type": "markdown",
   "id": "0f1c5ea6",
   "metadata": {},
   "source": [
    "### Solution-4"
   ]
  },
  {
   "cell_type": "code",
   "execution_count": 7,
   "id": "179d0954",
   "metadata": {},
   "outputs": [],
   "source": [
    "def prime_finder(n):\n",
    "   return [is_prime(i)for i in range(2,n+1) if is_prime(i) != False]\n",
    "   \n"
   ]
  },
  {
   "cell_type": "code",
   "execution_count": 8,
   "id": "6b8ef881",
   "metadata": {},
   "outputs": [
    {
     "ename": "NameError",
     "evalue": "name 'is_prime' is not defined",
     "output_type": "error",
     "traceback": [
      "\u001b[0;31m---------------------------------------------------------------------------\u001b[0m",
      "\u001b[0;31mNameError\u001b[0m                                 Traceback (most recent call last)",
      "\u001b[0;32m/var/folders/cv/t5lmh27d0bd2hlz5c0h0ts2m0000gn/T/ipykernel_2527/1962497656.py\u001b[0m in \u001b[0;36m<module>\u001b[0;34m\u001b[0m\n\u001b[0;32m----> 1\u001b[0;31m \u001b[0mprint\u001b[0m\u001b[0;34m(\u001b[0m\u001b[0mprime_finder\u001b[0m\u001b[0;34m(\u001b[0m\u001b[0;36m11\u001b[0m\u001b[0;34m)\u001b[0m\u001b[0;34m)\u001b[0m\u001b[0;34m\u001b[0m\u001b[0;34m\u001b[0m\u001b[0m\n\u001b[0m",
      "\u001b[0;32m/var/folders/cv/t5lmh27d0bd2hlz5c0h0ts2m0000gn/T/ipykernel_2527/3315294349.py\u001b[0m in \u001b[0;36mprime_finder\u001b[0;34m(n)\u001b[0m\n\u001b[1;32m      1\u001b[0m \u001b[0;32mdef\u001b[0m \u001b[0mprime_finder\u001b[0m\u001b[0;34m(\u001b[0m\u001b[0mn\u001b[0m\u001b[0;34m)\u001b[0m\u001b[0;34m:\u001b[0m\u001b[0;34m\u001b[0m\u001b[0;34m\u001b[0m\u001b[0m\n\u001b[0;32m----> 2\u001b[0;31m    \u001b[0;32mreturn\u001b[0m \u001b[0;34m[\u001b[0m\u001b[0mis_prime\u001b[0m\u001b[0;34m(\u001b[0m\u001b[0mi\u001b[0m\u001b[0;34m)\u001b[0m\u001b[0;32mfor\u001b[0m \u001b[0mi\u001b[0m \u001b[0;32min\u001b[0m \u001b[0mrange\u001b[0m\u001b[0;34m(\u001b[0m\u001b[0;36m2\u001b[0m\u001b[0;34m,\u001b[0m\u001b[0mn\u001b[0m\u001b[0;34m+\u001b[0m\u001b[0;36m1\u001b[0m\u001b[0;34m)\u001b[0m \u001b[0;32mif\u001b[0m \u001b[0mis_prime\u001b[0m\u001b[0;34m(\u001b[0m\u001b[0mi\u001b[0m\u001b[0;34m)\u001b[0m \u001b[0;34m!=\u001b[0m \u001b[0;32mFalse\u001b[0m\u001b[0;34m]\u001b[0m\u001b[0;34m\u001b[0m\u001b[0;34m\u001b[0m\u001b[0m\n\u001b[0m\u001b[1;32m      3\u001b[0m \u001b[0;34m\u001b[0m\u001b[0m\n",
      "\u001b[0;32m/var/folders/cv/t5lmh27d0bd2hlz5c0h0ts2m0000gn/T/ipykernel_2527/3315294349.py\u001b[0m in \u001b[0;36m<listcomp>\u001b[0;34m(.0)\u001b[0m\n\u001b[1;32m      1\u001b[0m \u001b[0;32mdef\u001b[0m \u001b[0mprime_finder\u001b[0m\u001b[0;34m(\u001b[0m\u001b[0mn\u001b[0m\u001b[0;34m)\u001b[0m\u001b[0;34m:\u001b[0m\u001b[0;34m\u001b[0m\u001b[0;34m\u001b[0m\u001b[0m\n\u001b[0;32m----> 2\u001b[0;31m    \u001b[0;32mreturn\u001b[0m \u001b[0;34m[\u001b[0m\u001b[0mis_prime\u001b[0m\u001b[0;34m(\u001b[0m\u001b[0mi\u001b[0m\u001b[0;34m)\u001b[0m\u001b[0;32mfor\u001b[0m \u001b[0mi\u001b[0m \u001b[0;32min\u001b[0m \u001b[0mrange\u001b[0m\u001b[0;34m(\u001b[0m\u001b[0;36m2\u001b[0m\u001b[0;34m,\u001b[0m\u001b[0mn\u001b[0m\u001b[0;34m+\u001b[0m\u001b[0;36m1\u001b[0m\u001b[0;34m)\u001b[0m \u001b[0;32mif\u001b[0m \u001b[0mis_prime\u001b[0m\u001b[0;34m(\u001b[0m\u001b[0mi\u001b[0m\u001b[0;34m)\u001b[0m \u001b[0;34m!=\u001b[0m \u001b[0;32mFalse\u001b[0m\u001b[0;34m]\u001b[0m\u001b[0;34m\u001b[0m\u001b[0;34m\u001b[0m\u001b[0m\n\u001b[0m\u001b[1;32m      3\u001b[0m \u001b[0;34m\u001b[0m\u001b[0m\n",
      "\u001b[0;31mNameError\u001b[0m: name 'is_prime' is not defined"
     ]
    }
   ],
   "source": [
    "print(prime_finder(11))"
   ]
  },
  {
   "cell_type": "markdown",
   "id": "c9c54644",
   "metadata": {},
   "source": [
    "## <font color=red>.sort() method w/ lambda function(holypython)</font><br>"
   ]
  },
  {
   "cell_type": "markdown",
   "id": "e5710a36",
   "metadata": {},
   "source": [
    "__Task:<br>__ - __Using .sort() method, create a lambda function that sorts the list in descending order. Refrain from using the reverse parameter.__\n",
    "\n",
    "\n",
    "__(Hint: lambda will be passed to sort method's key parameter as argument)__"
   ]
  },
  {
   "cell_type": "markdown",
   "id": "d8b92894",
   "metadata": {},
   "source": [
    "__Hint 0 :__<br> __Although 1/x should suffice, test fails in the system probably due to a decimal conflict, so kindly just use 100/x, the mathematical idea to flip the numbers’ value remains the same.__"
   ]
  },
  {
   "cell_type": "markdown",
   "id": "ed67235d",
   "metadata": {},
   "source": [
    "__Hint 1 :__<br> __You can type your lambda function after the key parameter in .sort() method:__\n",
    "\n",
    "__key=lambda x:…..__"
   ]
  },
  {
   "cell_type": "markdown",
   "id": "36225bfc",
   "metadata": {},
   "source": [
    "__Hint 2 :__<br> \n",
    "- __1/x can be a useful to create a reverse sorting function.__\n",
    "\n",
    "- __If 1/x is the output when x is the input that means, greater the x, smaller the 1/x will be.__\n",
    "\n",
    "- __Based on this logic .sort() will think it’s sorting from smaller to greater as usual but your function sort of tricks it, if you will.__\n",
    "\n",
    "__https://www.sololearn.com/learning/1172/5232/13871/1__"
   ]
  },
  {
   "cell_type": "code",
   "execution_count": null,
   "id": "d6aadeda",
   "metadata": {},
   "outputs": [],
   "source": [
    "lst = [100, 10, 10000, 1, 9, 999, 99]\n",
    "\n",
    "lst.sort(key=lambda x: 100/x)\n",
    "\n",
    "print(lst)"
   ]
  },
  {
   "cell_type": "code",
   "execution_count": null,
   "id": "a4b44033",
   "metadata": {},
   "outputs": [],
   "source": [
    "# sorted() is a build-in function rather than a method. \n",
    "# So it will take the list itself \n",
    "# as parameter on top of your lambda function.Such as -->sorted(lst, key…)\n",
    "##  .sort() is a method"
   ]
  },
  {
   "cell_type": "markdown",
   "id": "bda1f9e3",
   "metadata": {},
   "source": [
    "__Solve same task with sorted() built-in function but ascending order this time__"
   ]
  },
  {
   "cell_type": "code",
   "execution_count": null,
   "id": "bf513f4a",
   "metadata": {},
   "outputs": [],
   "source": [
    "lst = [100, 10, 10000, 1, 9, 999, 99]\n",
    "\n",
    "lst = sorted(lst, key=lambda x:x)\n",
    "\n",
    "lst"
   ]
  },
  {
   "cell_type": "code",
   "execution_count": null,
   "id": "a54d0b62",
   "metadata": {},
   "outputs": [],
   "source": []
  },
  {
   "cell_type": "markdown",
   "id": "99e666b6",
   "metadata": {},
   "source": [
    "## <font color=red>Date Picker(sololearn)</font><br>"
   ]
  },
  {
   "cell_type": "markdown",
   "id": "702eac2e",
   "metadata": {},
   "source": [
    "__You are creating a date picker for a website and need to output all of the years in a given period.\n",
    "Write a program that takes two integers as input and outputs the range of numbers between the two inputs as a list.\n",
    "The output sequence should start with the first input number and end with the second input number, without including it.__\n",
    "\n",
    "__Sample Input\n",
    "2005\n",
    "2011__\n",
    "\n",
    "__Sample Output\n",
    "[2005, 2006, 2007, 2008, 2009, 2010]__"
   ]
  },
  {
   "cell_type": "markdown",
   "id": "61da908e",
   "metadata": {},
   "source": [
    "### Solution-1"
   ]
  },
  {
   "cell_type": "code",
   "execution_count": null,
   "id": "341b6c13",
   "metadata": {},
   "outputs": [],
   "source": [
    "a = int(input())\n",
    "b = int(input())\n",
    "date_picker = list(range(a, b))\n",
    "print(date_picker)"
   ]
  },
  {
   "cell_type": "markdown",
   "id": "6c3a3e08",
   "metadata": {},
   "source": [
    "### Solution-2"
   ]
  },
  {
   "cell_type": "code",
   "execution_count": null,
   "id": "df8124a7",
   "metadata": {},
   "outputs": [],
   "source": [
    "a = int(input())\n",
    "b = int(input())\n",
    "\n",
    "date_picker = []\n",
    "for i in list(range(a, b)) :\n",
    "    date_picker.append(i)\n",
    "    \n",
    "print(date_picker)"
   ]
  },
  {
   "cell_type": "code",
   "execution_count": null,
   "id": "fc325f03",
   "metadata": {},
   "outputs": [],
   "source": []
  },
  {
   "cell_type": "code",
   "execution_count": null,
   "id": "fddf6bbd",
   "metadata": {},
   "outputs": [],
   "source": []
  },
  {
   "cell_type": "markdown",
   "id": "d2cd8ffc",
   "metadata": {},
   "source": [
    "## <font color=red>National Economic Freedom(sololearn)</font><br>"
   ]
  },
  {
   "cell_type": "markdown",
   "id": "b5ca9a41",
   "metadata": {},
   "source": [
    "__You are working on data that represents the economic freedom rank by country.\n",
    "Each country name and rank are stored in a dictionary, with the key being the country name.__\n",
    "\n",
    "__Complete the program to take the country name as input and output its corresponding economic freedom rank.\n",
    "In case the provided country name is not present in the data, output \"Not found\".__"
   ]
  },
  {
   "cell_type": "markdown",
   "id": "32f1fef8",
   "metadata": {},
   "source": [
    "__Recall the get() method of a dictionary, that allows you to specify a default value.__\n",
    "\n",
    "__https://www.sololearn.com/learning/1158/4637/11871/1__"
   ]
  },
  {
   "cell_type": "markdown",
   "id": "bcea9222",
   "metadata": {},
   "source": []
  },
  {
   "cell_type": "markdown",
   "id": "b1121bbf",
   "metadata": {},
   "source": [
    "### Solution-1"
   ]
  },
  {
   "cell_type": "code",
   "execution_count": null,
   "id": "8b09b57e",
   "metadata": {},
   "outputs": [],
   "source": [
    "data = {\n",
    "    'Singapore': 1,\n",
    "    'Ireland': 6,\n",
    "    'United Kingdom': 7,\n",
    "    'Germany': 27,\n",
    "    'Armenia': 34,\n",
    "    'United States': 17,\n",
    "    'Canada': 9,\n",
    "    'Italy': 74\n",
    "}\n",
    "\n",
    "c = input()\n",
    "\n",
    "def country(c) :\n",
    "\n",
    "    if c in data :\n",
    "        return data[c]\n",
    "    else :\n",
    "        return data.get(c, \"Not found\")\n",
    "\n",
    "\n",
    "print(country(c))"
   ]
  },
  {
   "cell_type": "markdown",
   "id": "abf974bd",
   "metadata": {},
   "source": [
    "### Solution-2"
   ]
  },
  {
   "cell_type": "code",
   "execution_count": null,
   "id": "20c43297",
   "metadata": {},
   "outputs": [],
   "source": [
    "data = {\n",
    "    'Singapore': 1,\n",
    "    'Ireland': 6,\n",
    "    'United Kingdom': 7,\n",
    "    'Germany': 27,\n",
    "    'Armenia': 34,\n",
    "    'United States': 17,\n",
    "    'Canada': 9,\n",
    "    'Italy': 74\n",
    "}\n",
    "\n",
    "a = input()\n",
    "print(data.get(a, \"Not found\"))"
   ]
  },
  {
   "cell_type": "code",
   "execution_count": null,
   "id": "cb4baaa9",
   "metadata": {},
   "outputs": [],
   "source": [
    "fib = {1: 1, 2: 1, 3: 2, 4: 3}\n",
    "print(fib.get(4, 0) + fib.get(7, 5))"
   ]
  },
  {
   "cell_type": "markdown",
   "id": "2090669a",
   "metadata": {},
   "source": [
    "## <font color=red>Contact Search(Tuples)(sololearn)</font><br>"
   ]
  },
  {
   "cell_type": "markdown",
   "id": "4b1fda57",
   "metadata": {},
   "source": [
    "__You are given a list of contacts, where each contact is represented by a tuple, with the name and age of the contact.__\n",
    "\n",
    "__Complete the program to get a string as input, search for the name in the list of contacts and output the age of the contact in the format presented below:__\n",
    "\n",
    "__Sample Input\n",
    "John__\n",
    "\n",
    "__Sample Output\n",
    "John is 31__\n",
    "\n",
    "__If the contact is not found, the program should output \"Not found\".__\n",
    "\n",
    "__https://www.sololearn.com/codecoach/1067?language=py&location=2&returnUrl=/learning__\n"
   ]
  },
  {
   "cell_type": "markdown",
   "id": "ba9d27cd",
   "metadata": {},
   "source": [
    "### Solution-1"
   ]
  },
  {
   "cell_type": "code",
   "execution_count": null,
   "id": "590f4d5d",
   "metadata": {},
   "outputs": [],
   "source": [
    "contacts = [\n",
    "    ('James', 42),\n",
    "    ('Amy', 24),\n",
    "    ('John', 31),\n",
    "    ('Amanda', 63),\n",
    "    ('Bob', 18)\n",
    "]\n",
    "\n",
    "name = input()\n",
    "\n",
    "for i in contacts :\n",
    "    if name in i :\n",
    "        print(str(i[0]), \"is\", str(i[1]))\n",
    "        break\n",
    "else :\n",
    "    print(\"Not found\")"
   ]
  },
  {
   "cell_type": "markdown",
   "id": "f7f390c5",
   "metadata": {},
   "source": [
    "### Solution-2 (partly-list_comprehension)"
   ]
  },
  {
   "cell_type": "code",
   "execution_count": null,
   "id": "095ad4dc",
   "metadata": {},
   "outputs": [],
   "source": [
    "contacts = [\n",
    "    ('James', 42),\n",
    "    ('Amy', 24),\n",
    "    ('John', 31),\n",
    "    ('Amanda', 63),\n",
    "    ('Bob', 18)\n",
    "]\n",
    "\n",
    "name = input()\n",
    "\n",
    "res = [(str(i[0]) + \" is \" + str(i[1]) if name in i else \"Not found\") for i in contacts]\n",
    "\n",
    "print(res)"
   ]
  },
  {
   "cell_type": "markdown",
   "id": "68eb41fd",
   "metadata": {},
   "source": [
    "## <font color=red>Square Up(sololearn)</font><br>"
   ]
  },
  {
   "cell_type": "markdown",
   "id": "bff8ec15",
   "metadata": {},
   "source": [
    "__Tuples can be used to output multiple values from a function.__<br>\n",
    "__You need to make a function called calc(), that will take the side length of a square as its argument and return the perimeter and area using a tuple.__<br>\n",
    "__The perimeter is the sum of all sides, while the area is the square of the side length.__<br>\n",
    "\n",
    "__Sample Input<br>\n",
    "3__<br><br>\n",
    "\n",
    "__Sample Output\n",
    "Perimeter: 12<br>\n",
    "Area: 9__<br>\n",
    "\n",
    "__The given code takes a number from user input, passes it to the calc() function, and uses unpacking to get the returned values.__\n",
    "\n",
    "__https://www.sololearn.com/learning/1158/4674/11990/1__"
   ]
  },
  {
   "cell_type": "markdown",
   "id": "302231cc",
   "metadata": {},
   "source": [
    "### Solution-1"
   ]
  },
  {
   "cell_type": "code",
   "execution_count": null,
   "id": "e6296b27",
   "metadata": {},
   "outputs": [],
   "source": [
    "def calc(x):\n",
    "    s = (x * 4, x ** 2)\n",
    "    return s\n",
    "    \n",
    "\n",
    "side = int(input())\n",
    "p, a = calc(side)\n",
    "\n",
    "print(\"Perimeter: \" + str(p))\n",
    "print(\"Area: \" + str(a))"
   ]
  },
  {
   "cell_type": "code",
   "execution_count": null,
   "id": "56fb75ee",
   "metadata": {},
   "outputs": [],
   "source": []
  },
  {
   "cell_type": "markdown",
   "id": "3177ca5e",
   "metadata": {},
   "source": [
    "## <font color=red>Ignore the Vovels (sololearn)</font><br>"
   ]
  },
  {
   "cell_type": "markdown",
   "id": "17b6c994",
   "metadata": {},
   "source": [
    "__Given a word as input, output a list, containing only the letters of the word that are not vowels.__<br>\n",
    "__The vowels are a, e, i, o, u.__\n",
    "\n",
    "__Sample Input__<br>\n",
    "__awesome__\n",
    "\n",
    "__Sample Output__<br>\n",
    "__['w', 's', 'm']__"
   ]
  },
  {
   "cell_type": "markdown",
   "id": "a997526f",
   "metadata": {},
   "source": [
    "__Use a list comprehension to create the required list of letters and output it.__\n",
    "\n",
    "\n",
    "__https://www.sololearn.com/learning/1158/4640/11879/1__"
   ]
  },
  {
   "cell_type": "markdown",
   "id": "79eab3f8",
   "metadata": {},
   "source": [
    "### Solution-1"
   ]
  },
  {
   "cell_type": "code",
   "execution_count": null,
   "id": "03a47ca9",
   "metadata": {},
   "outputs": [],
   "source": [
    "word = input()\n",
    "vowels = [\"a\", \"e\", \"i\", \"o\", \"u\"]\n",
    "result = [i for i in word if not word in vowels]\n",
    "result"
   ]
  },
  {
   "cell_type": "code",
   "execution_count": null,
   "id": "8abe7d1c",
   "metadata": {},
   "outputs": [],
   "source": []
  },
  {
   "cell_type": "markdown",
   "id": "d17d0290",
   "metadata": {},
   "source": [
    "### Solution-2"
   ]
  },
  {
   "cell_type": "code",
   "execution_count": null,
   "id": "4be819db",
   "metadata": {
    "scrolled": true
   },
   "outputs": [],
   "source": [
    "word = input()\n",
    "vowels = [\"a\", \"e\", \"i\", \"o\", \"u\"]\n",
    "result = list(set(word) - set(vowels))\n",
    "print(result)"
   ]
  },
  {
   "cell_type": "code",
   "execution_count": null,
   "id": "d32e0943",
   "metadata": {},
   "outputs": [],
   "source": []
  },
  {
   "cell_type": "markdown",
   "id": "3cd57ac7",
   "metadata": {},
   "source": [
    "## <font color=red>Letter Counter (sololearn)</font><br>"
   ]
  },
  {
   "cell_type": "markdown",
   "id": "830cba2f",
   "metadata": {},
   "source": [
    "__- Given a string as input, you need to output how many times each letter appears in the string.__<br>\n",
    "__- You decide to store the data in a dictionary, with the letters as the keys, and the corresponding counts as the values.__<br>\n",
    "__- Create a program to take a string as input and output a dictionary, which represents the letter count.__"
   ]
  },
  {
   "cell_type": "markdown",
   "id": "492522ee",
   "metadata": {},
   "source": [
    "__Sample Input<br>\n",
    "hello__<br>\n",
    "\n",
    "__Sample Output<br>\n",
    "{'h': 1, 'e': 1, 'l': 2, 'o': 1}__<br>\n",
    "\n",
    "__- You need to output the dictionary object.__<br>\n",
    "__- Note, that the letters are in the order of appearance in the string.__\n",
    "\n",
    "__https://www.sololearn.com/learning/eom-project/1158/1060__"
   ]
  },
  {
   "cell_type": "code",
   "execution_count": null,
   "id": "33c0dee3",
   "metadata": {},
   "outputs": [],
   "source": [
    "text = input()\n",
    "dict = {}\n",
    "for i in text :\n",
    "    dict[i] = text.count(i) # add items to a dict(dict[key]=value)\n",
    "print(dict)"
   ]
  },
  {
   "cell_type": "markdown",
   "id": "2e4d3af8",
   "metadata": {},
   "source": [
    "## <font color=red>Generators (sololearn)</font><br>"
   ]
  },
  {
   "cell_type": "markdown",
   "id": "2c6d8462",
   "metadata": {},
   "source": [
    "__- Finding prime numbers is a common coding interview task.__<br>\n",
    "__- The given code defines a function isPrime(x), which returns True if x is prime.__<br>\n",
    "__- You need to create a generator function primeGenerator(), that will take two numbers as arguments, and use the isPrime() function to output the prime numbers in the given range (between the two arguments).__\n"
   ]
  },
  {
   "cell_type": "markdown",
   "id": "84e83b49",
   "metadata": {},
   "source": [
    "Sample Input<br>\n",
    "10<br>\n",
    "20"
   ]
  },
  {
   "cell_type": "markdown",
   "id": "59f84c82",
   "metadata": {},
   "source": [
    "Sample Output<br>\n",
    "[11, 13, 17, 19]"
   ]
  },
  {
   "cell_type": "markdown",
   "id": "76adf9d0",
   "metadata": {},
   "source": [
    "__The given code takes the two arguments as input and passes them to the generator function, outputting the result as a list.__"
   ]
  },
  {
   "cell_type": "code",
   "execution_count": 2,
   "id": "ec973c76",
   "metadata": {},
   "outputs": [
    {
     "name": "stdout",
     "output_type": "stream",
     "text": [
      "1\n",
      "10\n",
      "[2, 3, 5, 7]\n"
     ]
    }
   ],
   "source": [
    "def isPrime(x):\n",
    "    if x < 2:\n",
    "        return False\n",
    "    elif x == 2:\n",
    "        return True  \n",
    "    for n in range(2, x):\n",
    "        if x % n ==0:\n",
    "            return False\n",
    "    return True\n",
    "\n",
    "def primeGenerator(a, b):\n",
    "    for number in range(a, b):\n",
    "        if isPrime(number):\n",
    "            yield number\n",
    "# \"return\" sends a specified value back to its caller \n",
    "# whereas \"yield\"can produce a sequence of values. \n",
    "## \"yield\" are used in Python generators.\n",
    "f = int(input())\n",
    "t = int(input())\n",
    "\n",
    "print(list(primeGenerator(f, t)))"
   ]
  },
  {
   "cell_type": "markdown",
   "id": "16d88264",
   "metadata": {},
   "source": [
    "## <font color=red>Getting A Raise! (sololearn)</font><br>"
   ]
  },
  {
   "cell_type": "markdown",
   "id": "2ccad844",
   "metadata": {},
   "source": [
    "__- You work on a payroll program.__<br>\n",
    "__- Given a list of salaries, you need to take the bonus everybody is getting as input and increase all the salaries by that amount.__<br>\n",
    "__- Output the resulting list.__<br>"
   ]
  },
  {
   "cell_type": "markdown",
   "id": "3bcc0663",
   "metadata": {},
   "source": [
    "__- You can use the map() function to increase all the values of the list.__<br>\n",
    "__-https://www.sololearn.com/codecoach/1072?language=py&location=2&source=profile__"
   ]
  },
  {
   "cell_type": "markdown",
   "id": "85d1ee51",
   "metadata": {},
   "source": [
    "### Solution-1"
   ]
  },
  {
   "cell_type": "code",
   "execution_count": 6,
   "id": "d8fe0d2e",
   "metadata": {},
   "outputs": [
    {
     "name": "stdout",
     "output_type": "stream",
     "text": [
      "500\n",
      "[2500, 2300, 3600, 4900, 2000]\n"
     ]
    }
   ],
   "source": [
    "salaries = [2000, 1800, 3100, 4400, 1500]\n",
    "bonus = int(input())\n",
    "\n",
    "salaries = list(map(lambda x: x + bonus, salaries))\n",
    "\n",
    "print(salaries)"
   ]
  },
  {
   "cell_type": "markdown",
   "id": "f6e41cab",
   "metadata": {},
   "source": [
    "### Solution-2"
   ]
  },
  {
   "cell_type": "code",
   "execution_count": 5,
   "id": "4c651e27",
   "metadata": {},
   "outputs": [
    {
     "name": "stdout",
     "output_type": "stream",
     "text": [
      "500\n",
      "[2500, 2300, 3600, 4900, 2000]\n"
     ]
    }
   ],
   "source": [
    "salaries = [2000, 1800, 3100, 4400, 1500]\n",
    "bonus = int(input())\n",
    "counter = 0\n",
    "for x in salaries :\n",
    "    salaries[counter] = x + bonus\n",
    "    counter += 1\n",
    "\n",
    "print(salaries)"
   ]
  },
  {
   "cell_type": "markdown",
   "id": "a914b034",
   "metadata": {},
   "source": [
    "## <font color=red>Collecting Reports (sololearn)(Decorators)</font><br>"
   ]
  },
  {
   "cell_type": "markdown",
   "id": "960432ba",
   "metadata": {},
   "source": [
    "__- You are working on an invoicing system.__<br>\n",
    "__- The system has an already defined invoice() function, which takes the invoice number as argument and outputs it.__<br>\n",
    "__- You need to add a decorator for the invoice() function, that will print the invoice in the following format:__<br>"
   ]
  },
  {
   "cell_type": "markdown",
   "id": "b9b1261b",
   "metadata": {},
   "source": [
    "Sample Input<br>\n",
    "42<br><br>\n",
    "\n",
    "Sample Output<br>\n",
    "__***__<br>\n",
    "INVOICE #42<br>\n",
    "__***__<br> \n",
    "END OF PAGE"
   ]
  },
  {
   "cell_type": "markdown",
   "id": "a5d76799",
   "metadata": {},
   "source": [
    "__The given code takes the invoice number as input and passes it to the invoice() function.__"
   ]
  },
  {
   "cell_type": "code",
   "execution_count": 11,
   "id": "6f8bd83e",
   "metadata": {},
   "outputs": [
    {
     "name": "stdout",
     "output_type": "stream",
     "text": [
      "55\n",
      "***\n",
      "INVOICE #55\n",
      "***\n",
      "END OF PAGE\n"
     ]
    }
   ],
   "source": [
    "def decor(func):\n",
    "    def wrap(num):\n",
    "        print(\"***\")\n",
    "        func(num)\n",
    "        print(\"***\")\n",
    "        print(\"END OF PAGE\")\n",
    "    return wrap\n",
    "\n",
    "\n",
    "@decor\n",
    "def invoice(num):\n",
    "    print(\"INVOICE #\" +num)\n",
    "\n",
    "invoice(input());"
   ]
  },
  {
   "cell_type": "code",
   "execution_count": null,
   "id": "bfb28d5a",
   "metadata": {},
   "outputs": [],
   "source": []
  },
  {
   "cell_type": "markdown",
   "id": "d7bd7865",
   "metadata": {},
   "source": [
    "## <font color=red>Decimal to Binary (sololearn)(Recursion)</font><br>"
   ]
  },
  {
   "cell_type": "markdown",
   "id": "589c7465",
   "metadata": {},
   "source": [
    "__The given code defines a recursive function convert(), which needs to convert its argument from decimal to binary.__<br>\n",
    "__However, the code has an error.__<br>\n",
    "__Fix the code by adding the base case for the recursion, then take a number from user input and call the convert() function, to output the result.___<br><br>\n",
    "__https://www.sololearn.com/learning/1158__"
   ]
  },
  {
   "cell_type": "markdown",
   "id": "8e9b8556",
   "metadata": {},
   "source": [
    "Sample Input<br>\n",
    "8<br><br>\n",
    "\n",
    "Sample Output<br>\n",
    "1000<br><br>\n",
    "The binary representation of 8 is 1000."
   ]
  },
  {
   "cell_type": "markdown",
   "id": "7b1ccf5d",
   "metadata": {},
   "source": []
  },
  {
   "cell_type": "code",
   "execution_count": 14,
   "id": "206bfb72",
   "metadata": {},
   "outputs": [
    {
     "name": "stdout",
     "output_type": "stream",
     "text": [
      "42\n",
      "101010\n"
     ]
    }
   ],
   "source": [
    "def convert(num): \n",
    "    if num == 1 :\n",
    "        return 1\n",
    "    else :\n",
    "        return (num % 2 + 10 * convert(num // 2)) \n",
    "    \n",
    "a = int(input())    \n",
    "print(convert(a))"
   ]
  },
  {
   "cell_type": "markdown",
   "id": "c50b5f78",
   "metadata": {},
   "source": [
    "## <font color=red>Making It Work (sololearn)(*args)</font><br>"
   ]
  },
  {
   "cell_type": "markdown",
   "id": "e84991a3",
   "metadata": {},
   "source": [
    "__- The given code defined a function called my_min(), which takes two arguments and returns the smaller one.__<br>\n",
    "__- You need to improve the function, so that it can take any number of variables, so that the function call works.__<br>\n",
    "__- Remember, *args can be accessed inside the function as a tuple.__<br>"
   ]
  },
  {
   "cell_type": "markdown",
   "id": "fb024876",
   "metadata": {},
   "source": [
    "__https://www.sololearn.com/learning/1158/4673/11988/1__"
   ]
  },
  {
   "cell_type": "code",
   "execution_count": 15,
   "id": "cf478efb",
   "metadata": {},
   "outputs": [
    {
     "name": "stdout",
     "output_type": "stream",
     "text": [
      "4\n"
     ]
    }
   ],
   "source": [
    "def my_min(*args):\n",
    "    return min(*args)\n",
    "\n",
    "print(my_min(8, 13, 4, 42, 120, 7))"
   ]
  },
  {
   "cell_type": "code",
   "execution_count": 16,
   "id": "786b59d9",
   "metadata": {},
   "outputs": [
    {
     "name": "stdout",
     "output_type": "stream",
     "text": [
      "8\n"
     ]
    }
   ],
   "source": [
    "def func(**kwargs):\n",
    "  print(kwargs[\"zero\"])\n",
    "\n",
    "func(a = 0, zero = 8)"
   ]
  },
  {
   "cell_type": "markdown",
   "id": "1b45f711",
   "metadata": {},
   "source": [
    "## <font color=red>Spelling Backwards(sololearn)(recursions)</font><br>"
   ]
  },
  {
   "cell_type": "markdown",
   "id": "79a2dca7",
   "metadata": {},
   "source": [
    "__Given a string as input, use recursion to output each letter of the strings in reverse order, on a new line.__<br><br>\n",
    "\n",
    "__https://www.sololearn.com/learning/eom-project/1158/1063__"
   ]
  },
  {
   "cell_type": "markdown",
   "id": "6cf4999b",
   "metadata": {},
   "source": [
    "Sample Input<br>\n",
    "HELLO<br><br>\n",
    "\n",
    "Sample Output<br>\n",
    "O<br>\n",
    "L<br>\n",
    "L<br>\n",
    "E<br>\n",
    "H<br><br><br>\n",
    "\n",
    "__Complete the recursive spell() function to produce the expected result.__"
   ]
  },
  {
   "cell_type": "markdown",
   "id": "89a88766",
   "metadata": {},
   "source": [
    "### Solution-1"
   ]
  },
  {
   "cell_type": "code",
   "execution_count": 18,
   "id": "ffd89a3e",
   "metadata": {},
   "outputs": [
    {
     "name": "stdout",
     "output_type": "stream",
     "text": [
      "elif\n",
      "f\n",
      "i\n",
      "l\n",
      "e\n"
     ]
    }
   ],
   "source": [
    "def spell(txt):\n",
    "  \n",
    "  \n",
    "    if len(txt) == 0 :\n",
    "        return txt\n",
    "    else :\n",
    "        for i in txt[::-1] :\n",
    "            print(i)\n",
    "\n",
    "txt = input()\n",
    "spell(txt)"
   ]
  },
  {
   "cell_type": "markdown",
   "id": "19ba1ec3",
   "metadata": {},
   "source": [
    "### Solution-2"
   ]
  },
  {
   "cell_type": "code",
   "execution_count": null,
   "id": "d039875a",
   "metadata": {},
   "outputs": [],
   "source": [
    "def spell(txt):\n",
    "    for i in txt[::-1] :\n",
    "        print(i)\n",
    "    \n",
    "txt = input()\n",
    "spell(txt)"
   ]
  },
  {
   "cell_type": "markdown",
   "id": "59050366",
   "metadata": {},
   "source": [
    "## <font color=red>Game Over(sololearn)(OOP_class)</font><br>"
   ]
  },
  {
   "cell_type": "markdown",
   "id": "7694aea5",
   "metadata": {},
   "source": [
    "- You are making a video game! The given code declares a Player class, with its attributes and an intro() method.<br>\n",
    "- Complete the code to take the name and level from user input, create a Player object with the corresponding values and call the intro() method of that object.<br><br>\n",
    "\n",
    "Sample Input<br>\n",
    "Tony<br>\n",
    "12<br><br>\n",
    "\n",
    "Sample Output<br>\n",
    "Tony (Level 12)<br><br>\n",
    "- Use the dot syntax to call the intro() method for the declared object.<br><br>\n",
    "\n",
    "__https://www.sololearn.com/learning/1158/4654/11924/1__"
   ]
  },
  {
   "cell_type": "code",
   "execution_count": 19,
   "id": "54e2981f",
   "metadata": {},
   "outputs": [
    {
     "name": "stdout",
     "output_type": "stream",
     "text": [
      "fatih\n",
      "11\n",
      "fatih (Level 11)\n"
     ]
    }
   ],
   "source": [
    "class Player:\n",
    "    def __init__(self, name, level):\n",
    "        self.name = name\n",
    "        self.level = level\n",
    "\n",
    "    def intro(self):\n",
    "        print(self.name + \" (Level \" + self.level + \")\")\n",
    "\n",
    "name = input()\n",
    "level = input()\n",
    "p = Player(name, level)\n",
    "p.intro()"
   ]
  },
  {
   "cell_type": "markdown",
   "id": "06e7af64",
   "metadata": {},
   "source": [
    "## <font color=red>Cash Out(sololearn)(Exception Handling)</font><br>"
   ]
  },
  {
   "cell_type": "markdown",
   "id": "2a5a5c1f",
   "metadata": {},
   "source": [
    "- __An ATM machine takes the amount to be withdrawn as input and calls the corresponding withdrawal method.__<br>\n",
    "- __In case the input is not a number, the machine should output \"Please enter a number\".__<br>\n",
    "- __Use exception handling to take a number as input, call the withdraw() method with the input as its argument, and output \"Please enter a number\", in case the input is not a number.__<br>\n",
    "- __A ValueError is raised when you try to convert a non-integer to an integer using int().__<br>\n",
    "\n",
    "- __https://www.sololearn.com/learning/1158__"
   ]
  },
  {
   "cell_type": "code",
   "execution_count": null,
   "id": "42257bc0",
   "metadata": {},
   "outputs": [],
   "source": [
    "def withdraw(amount):\n",
    "    print(str(amount) + \" withdrawn!\")\n",
    "\n",
    "n = input()        \n",
    "    \n",
    "try :\n",
    "    int(n)\n",
    "    withdraw(n)\n",
    "    \n",
    "except ValueError :\n",
    "    print(\"Please enter a number\")"
   ]
  },
  {
   "cell_type": "markdown",
   "id": "2790d4c0",
   "metadata": {},
   "source": [
    "## <font color=red>Chef's Kiss(sololearn)(Exception Handling)</font><br>"
   ]
  },
  {
   "cell_type": "markdown",
   "id": "fdbbbf1a",
   "metadata": {},
   "source": [
    "- __You are making a digital menu to order food.__<br>\n",
    "- __The menu is stored as a list of items.__<br>\n",
    "- __Your program needs to take the index of the item as input and output the item name.__<br>\n",
    "- __In case the index is not valid, you should output \"Item not found\".__<br>\n",
    "- __In case the index is valid and the item name is output successfully, you should output \"Thanks for your order\".__<br>\n",
    "\n",
    "- __https://www.sololearn.com/learning/1158/4627/11842/1__"
   ]
  },
  {
   "cell_type": "markdown",
   "id": "e8e5263a",
   "metadata": {},
   "source": [
    "__Sample Input__<br>\n",
    "2<br><br>\n",
    "\n",
    "__Sample Output__<br>\n",
    "Cheeseburger<br>\n",
    "Thanks for your order<br><br>\n",
    "\n",
    "__Handle the cases when the input is out of range, as well as when it is not a number.__"
   ]
  },
  {
   "cell_type": "code",
   "execution_count": 1,
   "id": "1331c1db",
   "metadata": {},
   "outputs": [
    {
     "name": "stdout",
     "output_type": "stream",
     "text": [
      "7\n",
      "Item not found\n"
     ]
    }
   ],
   "source": [
    "menu = ['Fries', 'Sandwich', 'Cheeseburger', 'Coffee', 'Soda']\n",
    "        \n",
    "try:\n",
    "    index = int(input()) \n",
    "    print(menu[index])\n",
    "    print(\"Thanks for your order\")     \n",
    "    \n",
    "except:\n",
    "    print(\"Item not found\") "
   ]
  },
  {
   "cell_type": "markdown",
   "id": "b0473ee2",
   "metadata": {},
   "source": [
    "## <font color=red>Say Something(sololearn)(Raising Exceptions)</font><br>"
   ]
  },
  {
   "cell_type": "markdown",
   "id": "24e10ddc",
   "metadata": {},
   "source": [
    "- __You are making a program to post tweets. Each tweet must not exceed 42 characters.__<br>\n",
    "- __Complete the program to raise an exception, in case the length of the tweet is more than 42 characters.__<br>\n",
    "- __You can use the len() function to calculate the length of the string.__<br><br>\n",
    "- __https://www.sololearn.com/learning/1158/4628/11844/1__"
   ]
  },
  {
   "cell_type": "code",
   "execution_count": null,
   "id": "468af200",
   "metadata": {},
   "outputs": [],
   "source": [
    "tweet = input()\n",
    "\n",
    "try:\n",
    "    if len(tweet) > 42 :\n",
    "        raise ValueError\n",
    "        \n",
    "    else : \n",
    "        pass\n",
    "    \n",
    "except:\n",
    "    print(\"Error\")\n",
    "    \n",
    "else:\n",
    "    print(\"Posted\")"
   ]
  },
  {
   "cell_type": "markdown",
   "id": "abbb64d5",
   "metadata": {},
   "source": [
    "## <font color=red>Registration System(sololearn)(Raising Exceptions)(Code Project)</font><br>"
   ]
  },
  {
   "cell_type": "markdown",
   "id": "1a7b77d8",
   "metadata": {},
   "source": [
    "- You are making a registration form for a website.<br>\n",
    "- The form has a name field, which should be more than 3 characters long.<br>\n",
    "- Any name that has less than 4 characters is invalid.<br>\n",
    "- __Complete the code to take the name as input, and raise an exception if the name is invalid, outputting \"Invalid Name\". Output \"Account Created\" if the name is valid.__<br><br>\n",
    "\n",
    "__Sample Input__<br>\n",
    "abc<br><br>\n",
    "\n",
    "__Sample Output__<br>\n",
    "Invalid Name<br><br>\n",
    "\n",
    "__Use try/raise/except statements.__<br><br>\n",
    "\n",
    "__https://www.sololearn.com/learning/eom-project/1158/1065__\n"
   ]
  },
  {
   "cell_type": "code",
   "execution_count": null,
   "id": "76b94f13",
   "metadata": {},
   "outputs": [],
   "source": []
  }
 ],
 "metadata": {
  "kernelspec": {
   "display_name": "Python 3 (ipykernel)",
   "language": "python",
   "name": "python3"
  },
  "language_info": {
   "codemirror_mode": {
    "name": "ipython",
    "version": 3
   },
   "file_extension": ".py",
   "mimetype": "text/x-python",
   "name": "python",
   "nbconvert_exporter": "python",
   "pygments_lexer": "ipython3",
   "version": "3.9.7"
  }
 },
 "nbformat": 4,
 "nbformat_minor": 5
}
