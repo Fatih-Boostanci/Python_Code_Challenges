{
 "cells": [
  {
   "cell_type": "markdown",
   "id": "e5a951e3",
   "metadata": {},
   "source": [
    "## <font color=red>Prime Number Finder(codecademy)</font><br>"
   ]
  },
  {
   "cell_type": "markdown",
   "id": "aacb4e9a",
   "metadata": {},
   "source": [
    "__Create a prime_finder() function that takes in a number, n, and returns all the prime numbers from 1 to n (inclusive).__<br> <br>\n",
    "__As a reminder, a prime number is a number that is only divisible by 1 and itself.__\n",
    "\n",
    "__For example, prime_finder(11) should return [2, 3, 5, 7, 11].__\n",
    "\n",
    "__Variations of this challenge have been reported to have been asked at interviews with Facebook.__ <br>\n",
    "\n",
    "__If you’ve covered the material in Pass the Technical Interview with Python or an equivalent, you should be able to solve this challenge.__ \n",
    "__If you have trouble, try refreshing your knowledge there first.__"
   ]
  },
  {
   "cell_type": "markdown",
   "id": "728428a6",
   "metadata": {},
   "source": [
    "https://www.codecademy.com/code-challenges/code-challenge-prime-number-finder-python"
   ]
  },
  {
   "cell_type": "markdown",
   "id": "5a0251c9",
   "metadata": {},
   "source": [
    "### Solution-1"
   ]
  },
  {
   "cell_type": "code",
   "execution_count": 1,
   "id": "55cfc8af",
   "metadata": {},
   "outputs": [],
   "source": [
    "def prime_finder(n) :\n",
    "    \n",
    "    prime = []\n",
    "    \n",
    "    for i in range(2, n+1) :\n",
    "        \n",
    "        for j in range(2, i) :\n",
    "\n",
    "            if i % j == 0 and j != i :\n",
    "                \n",
    "                break\n",
    "            \n",
    "        else :\n",
    "            \n",
    "            prime.append(i)\n",
    "    \n",
    "    return prime\n",
    "       "
   ]
  },
  {
   "cell_type": "code",
   "execution_count": 2,
   "id": "4ee14675",
   "metadata": {},
   "outputs": [
    {
     "data": {
      "text/plain": [
       "[2, 3, 5, 7, 11]"
      ]
     },
     "execution_count": 2,
     "metadata": {},
     "output_type": "execute_result"
    }
   ],
   "source": [
    "prime_finder(11)"
   ]
  },
  {
   "cell_type": "markdown",
   "id": "bb7e075c",
   "metadata": {},
   "source": [
    "### Solution-2"
   ]
  },
  {
   "cell_type": "code",
   "execution_count": 3,
   "id": "409151a9",
   "metadata": {},
   "outputs": [],
   "source": [
    "def prime_finderr(n):\n",
    "  list_of_primes = []\n",
    "  for x in range(2, n+1):\n",
    "    num = x\n",
    "    p = False\n",
    "    for y in range(2, num):\n",
    "      if num % y == 0:\n",
    "        p = True\n",
    "        break\n",
    "    if p:\n",
    "      continue\n",
    "    else:\n",
    "      list_of_primes.append(num)\n",
    "  return list_of_primes"
   ]
  },
  {
   "cell_type": "code",
   "execution_count": 4,
   "id": "94185960",
   "metadata": {},
   "outputs": [
    {
     "data": {
      "text/plain": [
       "[2, 3, 5, 7, 11]"
      ]
     },
     "execution_count": 4,
     "metadata": {},
     "output_type": "execute_result"
    }
   ],
   "source": [
    "prime_finderr(11)"
   ]
  },
  {
   "cell_type": "markdown",
   "id": "caa835d3",
   "metadata": {},
   "source": [
    "### Solution-3"
   ]
  },
  {
   "cell_type": "code",
   "execution_count": 14,
   "id": "e7940778",
   "metadata": {},
   "outputs": [],
   "source": [
    "def prime_finderrr(n):\n",
    "  #take care of edge cases 0 - 4 to make loop easier\n",
    "  if n < 1:\n",
    "    return []\n",
    "  if n == 2:\n",
    "    return [2]\n",
    "  if n < 5:\n",
    "    return [2, 3]"
   ]
  },
  {
   "cell_type": "code",
   "execution_count": 15,
   "id": "ca97eb11",
   "metadata": {},
   "outputs": [],
   "source": [
    "prime_finderrr(11)"
   ]
  },
  {
   "cell_type": "markdown",
   "id": "4a21ee40",
   "metadata": {},
   "source": [
    "### Solution-4"
   ]
  },
  {
   "cell_type": "code",
   "execution_count": 16,
   "id": "b63363e2",
   "metadata": {},
   "outputs": [],
   "source": [
    "def prime_finderrrr(n):\n",
    "   return [is_prime(i)for i in range(2,n+1) if is_prime(i) != False]"
   ]
  },
  {
   "cell_type": "code",
   "execution_count": 17,
   "id": "dd85da70",
   "metadata": {},
   "outputs": [
    {
     "ename": "NameError",
     "evalue": "name 'is_prime' is not defined",
     "output_type": "error",
     "traceback": [
      "\u001b[0;31m---------------------------------------------------------------------------\u001b[0m",
      "\u001b[0;31mNameError\u001b[0m                                 Traceback (most recent call last)",
      "\u001b[0;32m/var/folders/cv/t5lmh27d0bd2hlz5c0h0ts2m0000gn/T/ipykernel_1670/547801649.py\u001b[0m in \u001b[0;36m<module>\u001b[0;34m\u001b[0m\n\u001b[0;32m----> 1\u001b[0;31m \u001b[0mprint\u001b[0m\u001b[0;34m(\u001b[0m\u001b[0mprime_finderrrr\u001b[0m\u001b[0;34m(\u001b[0m\u001b[0;36m11\u001b[0m\u001b[0;34m)\u001b[0m\u001b[0;34m)\u001b[0m\u001b[0;34m\u001b[0m\u001b[0;34m\u001b[0m\u001b[0m\n\u001b[0m",
      "\u001b[0;32m/var/folders/cv/t5lmh27d0bd2hlz5c0h0ts2m0000gn/T/ipykernel_1670/1764942123.py\u001b[0m in \u001b[0;36mprime_finderrrr\u001b[0;34m(n)\u001b[0m\n\u001b[1;32m      1\u001b[0m \u001b[0;32mdef\u001b[0m \u001b[0mprime_finderrrr\u001b[0m\u001b[0;34m(\u001b[0m\u001b[0mn\u001b[0m\u001b[0;34m)\u001b[0m\u001b[0;34m:\u001b[0m\u001b[0;34m\u001b[0m\u001b[0;34m\u001b[0m\u001b[0m\n\u001b[0;32m----> 2\u001b[0;31m    \u001b[0;32mreturn\u001b[0m \u001b[0;34m[\u001b[0m\u001b[0mis_prime\u001b[0m\u001b[0;34m(\u001b[0m\u001b[0mi\u001b[0m\u001b[0;34m)\u001b[0m\u001b[0;32mfor\u001b[0m \u001b[0mi\u001b[0m \u001b[0;32min\u001b[0m \u001b[0mrange\u001b[0m\u001b[0;34m(\u001b[0m\u001b[0;36m2\u001b[0m\u001b[0;34m,\u001b[0m\u001b[0mn\u001b[0m\u001b[0;34m+\u001b[0m\u001b[0;36m1\u001b[0m\u001b[0;34m)\u001b[0m \u001b[0;32mif\u001b[0m \u001b[0mis_prime\u001b[0m\u001b[0;34m(\u001b[0m\u001b[0mi\u001b[0m\u001b[0;34m)\u001b[0m \u001b[0;34m!=\u001b[0m \u001b[0;32mFalse\u001b[0m\u001b[0;34m]\u001b[0m\u001b[0;34m\u001b[0m\u001b[0;34m\u001b[0m\u001b[0m\n\u001b[0m",
      "\u001b[0;32m/var/folders/cv/t5lmh27d0bd2hlz5c0h0ts2m0000gn/T/ipykernel_1670/1764942123.py\u001b[0m in \u001b[0;36m<listcomp>\u001b[0;34m(.0)\u001b[0m\n\u001b[1;32m      1\u001b[0m \u001b[0;32mdef\u001b[0m \u001b[0mprime_finderrrr\u001b[0m\u001b[0;34m(\u001b[0m\u001b[0mn\u001b[0m\u001b[0;34m)\u001b[0m\u001b[0;34m:\u001b[0m\u001b[0;34m\u001b[0m\u001b[0;34m\u001b[0m\u001b[0m\n\u001b[0;32m----> 2\u001b[0;31m    \u001b[0;32mreturn\u001b[0m \u001b[0;34m[\u001b[0m\u001b[0mis_prime\u001b[0m\u001b[0;34m(\u001b[0m\u001b[0mi\u001b[0m\u001b[0;34m)\u001b[0m\u001b[0;32mfor\u001b[0m \u001b[0mi\u001b[0m \u001b[0;32min\u001b[0m \u001b[0mrange\u001b[0m\u001b[0;34m(\u001b[0m\u001b[0;36m2\u001b[0m\u001b[0;34m,\u001b[0m\u001b[0mn\u001b[0m\u001b[0;34m+\u001b[0m\u001b[0;36m1\u001b[0m\u001b[0;34m)\u001b[0m \u001b[0;32mif\u001b[0m \u001b[0mis_prime\u001b[0m\u001b[0;34m(\u001b[0m\u001b[0mi\u001b[0m\u001b[0;34m)\u001b[0m \u001b[0;34m!=\u001b[0m \u001b[0;32mFalse\u001b[0m\u001b[0;34m]\u001b[0m\u001b[0;34m\u001b[0m\u001b[0;34m\u001b[0m\u001b[0m\n\u001b[0m",
      "\u001b[0;31mNameError\u001b[0m: name 'is_prime' is not defined"
     ]
    }
   ],
   "source": [
    "print(prime_finderrrr(11))"
   ]
  },
  {
   "cell_type": "code",
   "execution_count": null,
   "id": "6fa4a556",
   "metadata": {},
   "outputs": [],
   "source": []
  },
  {
   "cell_type": "code",
   "execution_count": null,
   "id": "bac18f0c",
   "metadata": {},
   "outputs": [],
   "source": []
  }
 ],
 "metadata": {
  "kernelspec": {
   "display_name": "Python 3 (ipykernel)",
   "language": "python",
   "name": "python3"
  },
  "language_info": {
   "codemirror_mode": {
    "name": "ipython",
    "version": 3
   },
   "file_extension": ".py",
   "mimetype": "text/x-python",
   "name": "python",
   "nbconvert_exporter": "python",
   "pygments_lexer": "ipython3",
   "version": "3.9.7"
  }
 },
 "nbformat": 4,
 "nbformat_minor": 5
}
