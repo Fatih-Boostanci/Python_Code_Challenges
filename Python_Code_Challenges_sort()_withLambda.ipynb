{
 "cells": [
  {
   "cell_type": "markdown",
   "id": "944acf14",
   "metadata": {},
   "source": [
    "## <font color=red>.sort() method w/ lambda function(holypython)</font><br>"
   ]
  },
  {
   "cell_type": "markdown",
   "id": "33865d9c",
   "metadata": {},
   "source": [
    "__Task:<br>__ - __Using .sort() method, create a lambda function that sorts the list in descending order. Refrain from using the reverse parameter.__\n",
    "\n",
    "\n",
    "__(Hint: lambda will be passed to sort method's key parameter as argument)__"
   ]
  },
  {
   "cell_type": "markdown",
   "id": "0092bb2e",
   "metadata": {},
   "source": [
    "__Hint 0 :__<br> __Although 1/x should suffice, test fails in the system probably due to a decimal conflict, so kindly just use 100/x, the mathematical idea to flip the numbers’ value remains the same.__"
   ]
  },
  {
   "cell_type": "markdown",
   "id": "a6e1fafe",
   "metadata": {},
   "source": [
    "__Hint 1 :__<br> __You can type your lambda function after the key parameter in .sort() method:__\n",
    "\n",
    "__key=lambda x:…..__"
   ]
  },
  {
   "cell_type": "markdown",
   "id": "b1d46216",
   "metadata": {},
   "source": [
    "__Hint 2 :__<br> \n",
    "- __1/x can be a useful to create a reverse sorting function.__\n",
    "\n",
    "- __If 1/x is the output when x is the input that means, greater the x, smaller the 1/x will be.__\n",
    "\n",
    "- __Based on this logic .sort() will think it’s sorting from smaller to greater as usual but your function sort of tricks it, if you will.__\n",
    "\n",
    "__https://www.sololearn.com/learning/1172/5232/13871/1__"
   ]
  },
  {
   "cell_type": "code",
   "execution_count": null,
   "id": "3451f792",
   "metadata": {},
   "outputs": [],
   "source": [
    "lst = [100, 10, 10000, 1, 9, 999, 99]\n",
    "\n",
    "lst.sort(key=lambda x: 100/x)\n",
    "\n",
    "print(lst)"
   ]
  },
  {
   "cell_type": "code",
   "execution_count": null,
   "id": "d6e667b5",
   "metadata": {},
   "outputs": [],
   "source": [
    "# sorted() is a build-in function rather than a method. \n",
    "# So it will take the list itself \n",
    "# as parameter on top of your lambda function.Such as -->sorted(lst, key…)\n",
    "##  .sort() is a method"
   ]
  },
  {
   "cell_type": "markdown",
   "id": "a3573b88",
   "metadata": {},
   "source": [
    "__Solve same task with sorted() built-in function but ascending order this time__"
   ]
  },
  {
   "cell_type": "code",
   "execution_count": null,
   "id": "9e41543c",
   "metadata": {},
   "outputs": [],
   "source": [
    "lst = [100, 10, 10000, 1, 9, 999, 99]\n",
    "\n",
    "lst = sorted(lst, key=lambda x:x)\n",
    "\n",
    "lst"
   ]
  }
 ],
 "metadata": {
  "kernelspec": {
   "display_name": "Python 3 (ipykernel)",
   "language": "python",
   "name": "python3"
  },
  "language_info": {
   "codemirror_mode": {
    "name": "ipython",
    "version": 3
   },
   "file_extension": ".py",
   "mimetype": "text/x-python",
   "name": "python",
   "nbconvert_exporter": "python",
   "pygments_lexer": "ipython3",
   "version": "3.9.7"
  }
 },
 "nbformat": 4,
 "nbformat_minor": 5
}
